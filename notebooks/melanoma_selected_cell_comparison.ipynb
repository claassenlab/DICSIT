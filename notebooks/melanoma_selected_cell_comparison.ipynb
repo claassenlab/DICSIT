{
 "cells": [
  {
   "cell_type": "markdown",
   "id": "df5125dc",
   "metadata": {
    "pycharm": {
     "name": "#%% md\n"
    }
   },
   "source": [
    "# Comparing selected cells for melanoma response status classification\n",
    "***\n",
    "Jan T. Schleicher, 2022\n",
    "\n",
    "In this notebook, we compare the selected cells for the distinction between respodner an non-responder melanoma lesions. Specifically, we compare DICSIT selected cells with cells that can be considered selected by scCODA, Wilcoxon rank-sum tests, or milo. This analysis is based on the data from [Sade-Feldman et al. 2018](https://doi.org/10.1016/j.cell.2018.10.038)."
   ]
  },
  {
   "cell_type": "code",
   "execution_count": 1,
   "id": "3a3bcbe9",
   "metadata": {
    "pycharm": {
     "name": "#%%\n"
    }
   },
   "outputs": [],
   "source": [
    "import os\n",
    "import numpy as np\n",
    "import pandas as pd\n",
    "from matplotlib import pyplot as plt\n",
    "import matplotlib as mpl\n",
    "import seaborn as sns\n",
    "import pickle\n",
    "import upsetplot as up\n",
    "\n",
    "%matplotlib inline\n",
    "%config Completer.use_jedi = False"
   ]
  },
  {
   "cell_type": "code",
   "execution_count": 2,
   "id": "f2a1f352",
   "metadata": {
    "pycharm": {
     "name": "#%%\n"
    }
   },
   "outputs": [],
   "source": [
    "plot_dir = \"../output/figures/melanoma_response_status\"\n",
    "os.makedirs(plot_dir, exist_ok=True)"
   ]
  },
  {
   "cell_type": "markdown",
   "id": "83d4f0fe",
   "metadata": {
    "pycharm": {
     "name": "#%% md\n"
    }
   },
   "source": [
    "## Load all the data\n",
    "\n",
    "We load the results of the different analyses: scCODA simulation results, cell scores based on milo neighborhood analysis, and DICSIT filter responses"
   ]
  },
  {
   "cell_type": "code",
   "execution_count": 3,
   "id": "8d334663",
   "metadata": {
    "pycharm": {
     "name": "#%%\n"
    }
   },
   "outputs": [],
   "source": [
    "sccoda_results = pickle.load(open(\"../output/differential_abundance/melanoma_sccoda_results.pkl\", \"rb\"))\n",
    "sccoda_results.set_fdr(est_fdr=0.1)\n",
    "cell_scores_milo = pd.read_csv(\"../output/differential_abundance/melanoma_cell_scores_milo.csv\")\n",
    "differential_abundance = pd.read_csv(\"../output/differential_abundance/melanoma_differential_abundance_wilcoxon.csv\",\n",
    "                                     index_col=0)\n",
    "response_df = pd.read_csv(\"../output/filter_responses/melanoma_response_status_filter_response.csv\",\n",
    "                          index_col=0)\\\n",
    "    .reset_index().rename(columns={\"Row.names\": \"cell\"})\n",
    "meta_data_umap = pd.read_csv(\"../data/melanoma_umap.txt\", sep=\"\\t\", index_col=0)\\\n",
    "    .reset_index().rename(columns={\"index\": \"cell\"})"
   ]
  },
  {
   "cell_type": "markdown",
   "id": "bb5c7d68",
   "metadata": {
    "pycharm": {
     "name": "#%% md\n"
    }
   },
   "source": [
    "## Determine selected cells for each method\n",
    "\n",
    "In contrast to DICSIT, the other methods do not have a predefined notion of selected cells. For scCODA and Wilcoxon rank-sum tests, which operate on the level of whole clusters, we define all cells from significantly different clusters as selected cells. For milo, we use scores for individual cells computed from neighborhood scores analogously to the DICSIT filter response and set the same threshold of $0.3 \\times (\\text{maximum filter response})$, after splitting the scores into scores for non-responder and responder lesions."
   ]
  },
  {
   "cell_type": "code",
   "execution_count": 4,
   "id": "9374979a",
   "metadata": {
    "pycharm": {
     "name": "#%%\n"
    }
   },
   "outputs": [],
   "source": [
    "fdr = .1\n",
    "ratio_max_response = .3"
   ]
  },
  {
   "cell_type": "code",
   "execution_count": 5,
   "id": "7c8173f0",
   "metadata": {
    "pycharm": {
     "name": "#%%\n"
    }
   },
   "outputs": [
    {
     "data": {
      "text/html": [
       "<div>\n",
       "<style scoped>\n",
       "    .dataframe tbody tr th:only-of-type {\n",
       "        vertical-align: middle;\n",
       "    }\n",
       "\n",
       "    .dataframe tbody tr th {\n",
       "        vertical-align: top;\n",
       "    }\n",
       "\n",
       "    .dataframe thead th {\n",
       "        text-align: right;\n",
       "    }\n",
       "</style>\n",
       "<table border=\"1\" class=\"dataframe\">\n",
       "  <thead>\n",
       "    <tr style=\"text-align: right;\">\n",
       "      <th></th>\n",
       "      <th>cluster_index</th>\n",
       "      <th>cluster</th>\n",
       "      <th>log2fc</th>\n",
       "      <th>p</th>\n",
       "      <th>padj</th>\n",
       "      <th>selected_wilcoxon_NR</th>\n",
       "      <th>selected_wilcoxon_R</th>\n",
       "      <th>selected_sccoda_NR</th>\n",
       "      <th>selected_sccoda_R</th>\n",
       "    </tr>\n",
       "  </thead>\n",
       "  <tbody>\n",
       "    <tr>\n",
       "      <th>0</th>\n",
       "      <td>0</td>\n",
       "      <td>G1</td>\n",
       "      <td>-2.158012</td>\n",
       "      <td>0.002407</td>\n",
       "      <td>0.013238</td>\n",
       "      <td>False</td>\n",
       "      <td>True</td>\n",
       "      <td>False</td>\n",
       "      <td>True</td>\n",
       "    </tr>\n",
       "    <tr>\n",
       "      <th>1</th>\n",
       "      <td>1</td>\n",
       "      <td>G2</td>\n",
       "      <td>0.578780</td>\n",
       "      <td>0.780688</td>\n",
       "      <td>0.780688</td>\n",
       "      <td>False</td>\n",
       "      <td>False</td>\n",
       "      <td>False</td>\n",
       "      <td>False</td>\n",
       "    </tr>\n",
       "    <tr>\n",
       "      <th>2</th>\n",
       "      <td>2</td>\n",
       "      <td>G3</td>\n",
       "      <td>2.065498</td>\n",
       "      <td>0.010422</td>\n",
       "      <td>0.028662</td>\n",
       "      <td>True</td>\n",
       "      <td>False</td>\n",
       "      <td>False</td>\n",
       "      <td>False</td>\n",
       "    </tr>\n",
       "    <tr>\n",
       "      <th>3</th>\n",
       "      <td>3</td>\n",
       "      <td>G4</td>\n",
       "      <td>1.278635</td>\n",
       "      <td>0.089436</td>\n",
       "      <td>0.157844</td>\n",
       "      <td>False</td>\n",
       "      <td>False</td>\n",
       "      <td>False</td>\n",
       "      <td>False</td>\n",
       "    </tr>\n",
       "    <tr>\n",
       "      <th>4</th>\n",
       "      <td>4</td>\n",
       "      <td>G5</td>\n",
       "      <td>-1.032665</td>\n",
       "      <td>0.100446</td>\n",
       "      <td>0.157844</td>\n",
       "      <td>False</td>\n",
       "      <td>False</td>\n",
       "      <td>False</td>\n",
       "      <td>False</td>\n",
       "    </tr>\n",
       "    <tr>\n",
       "      <th>5</th>\n",
       "      <td>5</td>\n",
       "      <td>G6</td>\n",
       "      <td>1.962359</td>\n",
       "      <td>0.005844</td>\n",
       "      <td>0.021429</td>\n",
       "      <td>True</td>\n",
       "      <td>False</td>\n",
       "      <td>True</td>\n",
       "      <td>False</td>\n",
       "    </tr>\n",
       "    <tr>\n",
       "      <th>6</th>\n",
       "      <td>6</td>\n",
       "      <td>G7</td>\n",
       "      <td>0.252103</td>\n",
       "      <td>0.290052</td>\n",
       "      <td>0.398822</td>\n",
       "      <td>False</td>\n",
       "      <td>False</td>\n",
       "      <td>False</td>\n",
       "      <td>False</td>\n",
       "    </tr>\n",
       "    <tr>\n",
       "      <th>7</th>\n",
       "      <td>7</td>\n",
       "      <td>G8</td>\n",
       "      <td>0.480612</td>\n",
       "      <td>0.372954</td>\n",
       "      <td>0.455833</td>\n",
       "      <td>False</td>\n",
       "      <td>False</td>\n",
       "      <td>False</td>\n",
       "      <td>False</td>\n",
       "    </tr>\n",
       "    <tr>\n",
       "      <th>8</th>\n",
       "      <td>8</td>\n",
       "      <td>G9</td>\n",
       "      <td>0.283632</td>\n",
       "      <td>0.635986</td>\n",
       "      <td>0.699584</td>\n",
       "      <td>False</td>\n",
       "      <td>False</td>\n",
       "      <td>False</td>\n",
       "      <td>False</td>\n",
       "    </tr>\n",
       "    <tr>\n",
       "      <th>9</th>\n",
       "      <td>9</td>\n",
       "      <td>G10</td>\n",
       "      <td>-1.860139</td>\n",
       "      <td>0.042104</td>\n",
       "      <td>0.092629</td>\n",
       "      <td>False</td>\n",
       "      <td>True</td>\n",
       "      <td>False</td>\n",
       "      <td>False</td>\n",
       "    </tr>\n",
       "    <tr>\n",
       "      <th>10</th>\n",
       "      <td>10</td>\n",
       "      <td>G11</td>\n",
       "      <td>1.830245</td>\n",
       "      <td>0.000238</td>\n",
       "      <td>0.002614</td>\n",
       "      <td>True</td>\n",
       "      <td>False</td>\n",
       "      <td>True</td>\n",
       "      <td>False</td>\n",
       "    </tr>\n",
       "  </tbody>\n",
       "</table>\n",
       "</div>"
      ],
      "text/plain": [
       "    cluster_index cluster    log2fc         p      padj  selected_wilcoxon_NR  \\\n",
       "0               0      G1 -2.158012  0.002407  0.013238                 False   \n",
       "1               1      G2  0.578780  0.780688  0.780688                 False   \n",
       "2               2      G3  2.065498  0.010422  0.028662                  True   \n",
       "3               3      G4  1.278635  0.089436  0.157844                 False   \n",
       "4               4      G5 -1.032665  0.100446  0.157844                 False   \n",
       "5               5      G6  1.962359  0.005844  0.021429                  True   \n",
       "6               6      G7  0.252103  0.290052  0.398822                 False   \n",
       "7               7      G8  0.480612  0.372954  0.455833                 False   \n",
       "8               8      G9  0.283632  0.635986  0.699584                 False   \n",
       "9               9     G10 -1.860139  0.042104  0.092629                 False   \n",
       "10             10     G11  1.830245  0.000238  0.002614                  True   \n",
       "\n",
       "    selected_wilcoxon_R  selected_sccoda_NR  selected_sccoda_R  \n",
       "0                  True               False               True  \n",
       "1                 False               False              False  \n",
       "2                 False               False              False  \n",
       "3                 False               False              False  \n",
       "4                 False               False              False  \n",
       "5                 False                True              False  \n",
       "6                 False               False              False  \n",
       "7                 False               False              False  \n",
       "8                 False               False              False  \n",
       "9                  True               False              False  \n",
       "10                False                True              False  "
      ]
     },
     "execution_count": 5,
     "metadata": {},
     "output_type": "execute_result"
    }
   ],
   "source": [
    "differential_abundance[\"selected_wilcoxon_NR\"] = (differential_abundance.padj < fdr) & \\\n",
    "    (differential_abundance.log2fc > 0)\n",
    "differential_abundance[\"selected_wilcoxon_R\"] = (differential_abundance.padj < fdr) & \\\n",
    "    (differential_abundance.log2fc < 0)\n",
    "differential_abundance[\"selected_sccoda_NR\"] = (sccoda_results.credible_effects().values) & \\\n",
    "    (differential_abundance.log2fc > 0)\n",
    "differential_abundance[\"selected_sccoda_R\"] = (sccoda_results.credible_effects().values) & \\\n",
    "    (differential_abundance.log2fc < 0)\n",
    "differential_abundance"
   ]
  },
  {
   "cell_type": "code",
   "execution_count": 6,
   "id": "4122442f",
   "metadata": {
    "pycharm": {
     "name": "#%%\n"
    }
   },
   "outputs": [],
   "source": [
    "cell_scores_milo[\"selected_milo_NR\"] = \\\n",
    "    (cell_scores_milo.score_NR > ratio_max_response * cell_scores_milo.score_NR.max())\n",
    "cell_scores_milo[\"selected_milo_R\"] = \\\n",
    "    (cell_scores_milo.score_R > ratio_max_response * cell_scores_milo.score_R.max())"
   ]
  },
  {
   "cell_type": "code",
   "execution_count": 7,
   "id": "d1786ca2",
   "metadata": {
    "pycharm": {
     "name": "#%%\n"
    }
   },
   "outputs": [],
   "source": [
    "response_df[\"selected_dicsit_R\"] = \\\n",
    "    (response_df.response_filter_0 > ratio_max_response * response_df.response_filter_0.max())\n",
    "response_df[\"selected_dicsit_NR\"] = \\\n",
    "    (response_df.response_filter_1 > ratio_max_response * response_df.response_filter_1.max())\n",
    "response_df[\"selected_dicsit_R_2\"] = \\\n",
    "    (response_df.response_filter_2 > ratio_max_response * response_df.response_filter_2.max())"
   ]
  },
  {
   "cell_type": "code",
   "execution_count": 8,
   "id": "db4f1a0c",
   "metadata": {
    "scrolled": false,
    "pycharm": {
     "name": "#%%\n"
    }
   },
   "outputs": [
    {
     "data": {
      "text/html": [
       "<div>\n",
       "<style scoped>\n",
       "    .dataframe tbody tr th:only-of-type {\n",
       "        vertical-align: middle;\n",
       "    }\n",
       "\n",
       "    .dataframe tbody tr th {\n",
       "        vertical-align: top;\n",
       "    }\n",
       "\n",
       "    .dataframe thead th {\n",
       "        text-align: right;\n",
       "    }\n",
       "</style>\n",
       "<table border=\"1\" class=\"dataframe\">\n",
       "  <thead>\n",
       "    <tr style=\"text-align: right;\">\n",
       "      <th></th>\n",
       "      <th>cell</th>\n",
       "      <th>sample_name</th>\n",
       "      <th>patient</th>\n",
       "      <th>cluster</th>\n",
       "      <th>response_status</th>\n",
       "      <th>selected_wilcoxon_NR</th>\n",
       "      <th>selected_wilcoxon_R</th>\n",
       "      <th>selected_sccoda_NR</th>\n",
       "      <th>selected_sccoda_R</th>\n",
       "      <th>selected_milo_NR</th>\n",
       "      <th>selected_milo_R</th>\n",
       "      <th>selected_dicsit_NR</th>\n",
       "      <th>selected_dicsit_R</th>\n",
       "    </tr>\n",
       "  </thead>\n",
       "  <tbody>\n",
       "    <tr>\n",
       "      <th>0</th>\n",
       "      <td>A10_P1_M15</td>\n",
       "      <td>Post_P1</td>\n",
       "      <td>P1</td>\n",
       "      <td>G9</td>\n",
       "      <td>R</td>\n",
       "      <td>False</td>\n",
       "      <td>False</td>\n",
       "      <td>False</td>\n",
       "      <td>False</td>\n",
       "      <td>False</td>\n",
       "      <td>False</td>\n",
       "      <td>False</td>\n",
       "      <td>False</td>\n",
       "    </tr>\n",
       "    <tr>\n",
       "      <th>1</th>\n",
       "      <td>A10_P4_M15</td>\n",
       "      <td>Post_P1</td>\n",
       "      <td>P1</td>\n",
       "      <td>G9</td>\n",
       "      <td>R</td>\n",
       "      <td>False</td>\n",
       "      <td>False</td>\n",
       "      <td>False</td>\n",
       "      <td>False</td>\n",
       "      <td>False</td>\n",
       "      <td>False</td>\n",
       "      <td>False</td>\n",
       "      <td>False</td>\n",
       "    </tr>\n",
       "    <tr>\n",
       "      <th>2</th>\n",
       "      <td>A10_P5_M15</td>\n",
       "      <td>Post_P1</td>\n",
       "      <td>P1</td>\n",
       "      <td>G9</td>\n",
       "      <td>R</td>\n",
       "      <td>False</td>\n",
       "      <td>False</td>\n",
       "      <td>False</td>\n",
       "      <td>False</td>\n",
       "      <td>False</td>\n",
       "      <td>False</td>\n",
       "      <td>False</td>\n",
       "      <td>False</td>\n",
       "    </tr>\n",
       "    <tr>\n",
       "      <th>3</th>\n",
       "      <td>A11_P2_M15</td>\n",
       "      <td>Post_P1</td>\n",
       "      <td>P1</td>\n",
       "      <td>G9</td>\n",
       "      <td>R</td>\n",
       "      <td>False</td>\n",
       "      <td>False</td>\n",
       "      <td>False</td>\n",
       "      <td>False</td>\n",
       "      <td>False</td>\n",
       "      <td>False</td>\n",
       "      <td>False</td>\n",
       "      <td>False</td>\n",
       "    </tr>\n",
       "    <tr>\n",
       "      <th>4</th>\n",
       "      <td>A11_P6_M15</td>\n",
       "      <td>Post_P1</td>\n",
       "      <td>P1</td>\n",
       "      <td>G9</td>\n",
       "      <td>R</td>\n",
       "      <td>False</td>\n",
       "      <td>False</td>\n",
       "      <td>False</td>\n",
       "      <td>False</td>\n",
       "      <td>False</td>\n",
       "      <td>False</td>\n",
       "      <td>False</td>\n",
       "      <td>False</td>\n",
       "    </tr>\n",
       "    <tr>\n",
       "      <th>...</th>\n",
       "      <td>...</td>\n",
       "      <td>...</td>\n",
       "      <td>...</td>\n",
       "      <td>...</td>\n",
       "      <td>...</td>\n",
       "      <td>...</td>\n",
       "      <td>...</td>\n",
       "      <td>...</td>\n",
       "      <td>...</td>\n",
       "      <td>...</td>\n",
       "      <td>...</td>\n",
       "      <td>...</td>\n",
       "      <td>...</td>\n",
       "    </tr>\n",
       "    <tr>\n",
       "      <th>14967</th>\n",
       "      <td>B7_P7_MMD7_L001_myeloid_enriched</td>\n",
       "      <td>Post_P19</td>\n",
       "      <td>P19</td>\n",
       "      <td>G4</td>\n",
       "      <td>R</td>\n",
       "      <td>False</td>\n",
       "      <td>False</td>\n",
       "      <td>False</td>\n",
       "      <td>False</td>\n",
       "      <td>False</td>\n",
       "      <td>False</td>\n",
       "      <td>False</td>\n",
       "      <td>False</td>\n",
       "    </tr>\n",
       "    <tr>\n",
       "      <th>14968</th>\n",
       "      <td>D9_P7_MMD7_L001_myeloid_enriched</td>\n",
       "      <td>Post_P19</td>\n",
       "      <td>P19</td>\n",
       "      <td>G4</td>\n",
       "      <td>R</td>\n",
       "      <td>False</td>\n",
       "      <td>False</td>\n",
       "      <td>False</td>\n",
       "      <td>False</td>\n",
       "      <td>False</td>\n",
       "      <td>False</td>\n",
       "      <td>False</td>\n",
       "      <td>False</td>\n",
       "    </tr>\n",
       "    <tr>\n",
       "      <th>14969</th>\n",
       "      <td>G12_P7_MMD7_L001_myeloid_enriched</td>\n",
       "      <td>Post_P19</td>\n",
       "      <td>P19</td>\n",
       "      <td>G4</td>\n",
       "      <td>R</td>\n",
       "      <td>False</td>\n",
       "      <td>False</td>\n",
       "      <td>False</td>\n",
       "      <td>False</td>\n",
       "      <td>False</td>\n",
       "      <td>False</td>\n",
       "      <td>False</td>\n",
       "      <td>False</td>\n",
       "    </tr>\n",
       "    <tr>\n",
       "      <th>14970</th>\n",
       "      <td>G8_P7_MMD7_L001_myeloid_enriched</td>\n",
       "      <td>Post_P19</td>\n",
       "      <td>P19</td>\n",
       "      <td>G4</td>\n",
       "      <td>R</td>\n",
       "      <td>False</td>\n",
       "      <td>False</td>\n",
       "      <td>False</td>\n",
       "      <td>False</td>\n",
       "      <td>False</td>\n",
       "      <td>False</td>\n",
       "      <td>False</td>\n",
       "      <td>False</td>\n",
       "    </tr>\n",
       "    <tr>\n",
       "      <th>14971</th>\n",
       "      <td>H7_P7_MMD7_L001_myeloid_enriched</td>\n",
       "      <td>Post_P19</td>\n",
       "      <td>P19</td>\n",
       "      <td>G4</td>\n",
       "      <td>R</td>\n",
       "      <td>False</td>\n",
       "      <td>False</td>\n",
       "      <td>False</td>\n",
       "      <td>False</td>\n",
       "      <td>False</td>\n",
       "      <td>False</td>\n",
       "      <td>False</td>\n",
       "      <td>False</td>\n",
       "    </tr>\n",
       "  </tbody>\n",
       "</table>\n",
       "<p>14972 rows × 13 columns</p>\n",
       "</div>"
      ],
      "text/plain": [
       "                                    cell sample_name patient cluster  \\\n",
       "0                             A10_P1_M15     Post_P1      P1      G9   \n",
       "1                             A10_P4_M15     Post_P1      P1      G9   \n",
       "2                             A10_P5_M15     Post_P1      P1      G9   \n",
       "3                             A11_P2_M15     Post_P1      P1      G9   \n",
       "4                             A11_P6_M15     Post_P1      P1      G9   \n",
       "...                                  ...         ...     ...     ...   \n",
       "14967   B7_P7_MMD7_L001_myeloid_enriched    Post_P19     P19      G4   \n",
       "14968   D9_P7_MMD7_L001_myeloid_enriched    Post_P19     P19      G4   \n",
       "14969  G12_P7_MMD7_L001_myeloid_enriched    Post_P19     P19      G4   \n",
       "14970   G8_P7_MMD7_L001_myeloid_enriched    Post_P19     P19      G4   \n",
       "14971   H7_P7_MMD7_L001_myeloid_enriched    Post_P19     P19      G4   \n",
       "\n",
       "      response_status  selected_wilcoxon_NR  selected_wilcoxon_R  \\\n",
       "0                   R                 False                False   \n",
       "1                   R                 False                False   \n",
       "2                   R                 False                False   \n",
       "3                   R                 False                False   \n",
       "4                   R                 False                False   \n",
       "...               ...                   ...                  ...   \n",
       "14967               R                 False                False   \n",
       "14968               R                 False                False   \n",
       "14969               R                 False                False   \n",
       "14970               R                 False                False   \n",
       "14971               R                 False                False   \n",
       "\n",
       "       selected_sccoda_NR  selected_sccoda_R  selected_milo_NR  \\\n",
       "0                   False              False             False   \n",
       "1                   False              False             False   \n",
       "2                   False              False             False   \n",
       "3                   False              False             False   \n",
       "4                   False              False             False   \n",
       "...                   ...                ...               ...   \n",
       "14967               False              False             False   \n",
       "14968               False              False             False   \n",
       "14969               False              False             False   \n",
       "14970               False              False             False   \n",
       "14971               False              False             False   \n",
       "\n",
       "       selected_milo_R  selected_dicsit_NR  selected_dicsit_R  \n",
       "0                False               False              False  \n",
       "1                False               False              False  \n",
       "2                False               False              False  \n",
       "3                False               False              False  \n",
       "4                False               False              False  \n",
       "...                ...                 ...                ...  \n",
       "14967            False               False              False  \n",
       "14968            False               False              False  \n",
       "14969            False               False              False  \n",
       "14970            False               False              False  \n",
       "14971            False               False              False  \n",
       "\n",
       "[14972 rows x 13 columns]"
      ]
     },
     "execution_count": 8,
     "metadata": {},
     "output_type": "execute_result"
    }
   ],
   "source": [
    "comp_df = meta_data_umap[[\"cell\", \"sample_name\", \"patient\", \"cluster\", \"response_status\"]]\\\n",
    "    .merge(differential_abundance[[\"cluster\", \"selected_wilcoxon_NR\", \"selected_wilcoxon_R\",\n",
    "                                   \"selected_sccoda_NR\", \"selected_sccoda_R\"]], on=\"cluster\")\\\n",
    "    .merge(cell_scores_milo[[\"cell\", \"selected_milo_NR\", \"selected_milo_R\"]], on=\"cell\")\\\n",
    "    .merge(response_df[[\"cell\", \"selected_dicsit_NR\", \"selected_dicsit_R\"]], on=\"cell\")\n",
    "comp_df"
   ]
  },
  {
   "cell_type": "markdown",
   "id": "5cb4cefe",
   "metadata": {
    "pycharm": {
     "name": "#%% md\n"
    }
   },
   "source": [
    "## Upset plots\n",
    "\n",
    "To quantify the size of overlaps and unique sets of selected cells between the different methods, we generate upset plots."
   ]
  },
  {
   "cell_type": "code",
   "execution_count": 9,
   "id": "8225d466",
   "metadata": {
    "pycharm": {
     "name": "#%%\n"
    }
   },
   "outputs": [],
   "source": [
    "data_upset_R = up.from_indicators(indicators=comp_df.filter(regex=\"selected_.*_R\").columns.tolist(), data=comp_df)\n",
    "data_upset_NR = up.from_indicators(indicators=comp_df.filter(regex=\"selected_.*_NR\").columns.tolist(), data=comp_df)"
   ]
  },
  {
   "cell_type": "code",
   "execution_count": 16,
   "id": "3376293a",
   "metadata": {
    "pycharm": {
     "name": "#%%\n"
    }
   },
   "outputs": [],
   "source": [
    "sns.set_theme(style=\"ticks\", font_scale=1.1)"
   ]
  },
  {
   "cell_type": "code",
   "execution_count": 17,
   "id": "803812c0",
   "metadata": {
    "pycharm": {
     "name": "#%%\n"
    }
   },
   "outputs": [
    {
     "data": {
      "image/png": "[encoded data removed]",
      "text/plain": [
       "<Figure size 844.444x444.444 with 4 Axes>"
      ]
     },
     "metadata": {},
     "output_type": "display_data"
    }
   ],
   "source": [
    "fig = plt.figure()\n",
    "upset = up.UpSet(data_upset_R, min_degree=1, sort_categories_by=None, show_counts=True)\n",
    "subplots = upset.plot(fig=fig)\n",
    "subplots[\"intersections\"].grid(visible=False)\n",
    "subplots[\"totals\"].grid(visible=False)\n",
    "subplots[\"totals\"].set_yticklabels([\"Wilcoxon R\", \"scCODA R\", \"milo R\", \"DICSIT R\"])\n",
    "fig.savefig(os.path.join(plot_dir, \"melanoma_selected_cells_R_upset.svg\"))"
   ]
  },
  {
   "cell_type": "code",
   "execution_count": 18,
   "id": "3c55df19",
   "metadata": {
    "pycharm": {
     "name": "#%%\n"
    }
   },
   "outputs": [
    {
     "data": {
      "image/png": "[encoded data removed]",
      "text/plain": [
       "<Figure size 800x444.444 with 4 Axes>"
      ]
     },
     "metadata": {},
     "output_type": "display_data"
    }
   ],
   "source": [
    "fig = plt.figure()\n",
    "subplots = up.plot(data_upset_NR, min_degree=1, sort_categories_by=None, show_counts=True, fig=fig)\n",
    "subplots[\"intersections\"].grid(visible=False)\n",
    "subplots[\"totals\"].grid(visible=False)\n",
    "subplots[\"totals\"].set_yticklabels([\"Wilcoxon NR\", \"scCODA NR\", \"milo NR\", \"DICSIT NR\"])\n",
    "fig.savefig(os.path.join(plot_dir, \"melanoma_selected_cells_NR_upset.svg\"))"
   ]
  },
  {
   "cell_type": "code",
   "execution_count": null,
   "id": "4d7c882f",
   "metadata": {
    "pycharm": {
     "name": "#%%\n"
    }
   },
   "outputs": [],
   "source": []
  }
 ],
 "metadata": {
  "kernelspec": {
   "display_name": "upset",
   "language": "python",
   "name": "upset"
  },
  "language_info": {
   "codemirror_mode": {
    "name": "ipython",
    "version": 3
   },
   "file_extension": ".py",
   "mimetype": "text/x-python",
   "name": "python",
   "nbconvert_exporter": "python",
   "pygments_lexer": "ipython3",
   "version": "3.8.15"
  }
 },
 "nbformat": 4,
 "nbformat_minor": 5
}