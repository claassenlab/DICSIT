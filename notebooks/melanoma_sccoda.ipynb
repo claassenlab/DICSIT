{
 "cells": [
  {
   "cell_type": "markdown",
   "id": "8ea6915c",
   "metadata": {
    "pycharm": {
     "name": "#%% md\n"
    }
   },
   "source": [
    "# Differential abundance between responder and non-responder lesions\n",
    "***\n",
    "Jan T. Schleicher, 2022\n",
    "\n",
    "In this notebook, we use scCODA and Wilcoxon rank-sum tests as benchmark methods to detect differentially abundant cell types between melanoma responder and non-responder lesions. This analysis is based on the data from [Sade-Feldman et al. 2018](https://doi.org/10.1016/j.cell.2018.10.038)."
   ]
  },
  {
   "cell_type": "code",
   "execution_count": 1,
   "id": "98703599",
   "metadata": {
    "pycharm": {
     "name": "#%%\n"
    }
   },
   "outputs": [],
   "source": [
    "import os\n",
    "os.environ['TF_CPP_MIN_LOG_LEVEL'] = '3' "
   ]
  },
  {
   "cell_type": "code",
   "execution_count": 2,
   "id": "5be811c6",
   "metadata": {
    "pycharm": {
     "name": "#%%\n"
    }
   },
   "outputs": [],
   "source": [
    "import pandas as pd\n",
    "from matplotlib import pyplot as plt\n",
    "import anndata as ad\n",
    "import pickle as pkl\n",
    "import seaborn as sns\n",
    "import numpy as np\n",
    "from scipy import stats\n",
    "from statsmodels.stats.multitest import multipletests\n",
    "\n",
    "from sccoda.util import comp_ana as mod\n",
    "from sccoda.util import cell_composition_data as dat\n",
    "from sccoda.util import data_visualization as viz\n",
    "\n",
    "%config Completer.use_jedi = False\n",
    "%matplotlib inline"
   ]
  },
  {
   "cell_type": "code",
   "execution_count": 3,
   "id": "68d77a36",
   "metadata": {
    "pycharm": {
     "name": "#%%\n"
    }
   },
   "outputs": [],
   "source": [
    "out_dir = \"../output/differential_abundance\"\n",
    "os.makedirs(out_dir, exist_ok=True)"
   ]
  },
  {
   "cell_type": "markdown",
   "id": "ff9e66e4",
   "metadata": {
    "pycharm": {
     "name": "#%% md\n"
    }
   },
   "source": [
    "## Loading data\n",
    "\n",
    "We load the data in the form of a scanpy object which we created from the Seurat object. From this, we create the covariates data frame and compositional AnnData object required for scCODA."
   ]
  },
  {
   "cell_type": "code",
   "execution_count": 4,
   "id": "dafbc39e",
   "metadata": {
    "pycharm": {
     "name": "#%%\n"
    }
   },
   "outputs": [
    {
     "name": "stderr",
     "output_type": "stream",
     "text": [
      "/home/ubuntu/miniconda3/envs/sccoda/lib/python3.8/site-packages/sccoda/util/cell_composition_data.py:256: FutureWarning: X.dtype being converted to np.float32 from float64. In the next version of anndata (0.9) conversion will not be automatic. Pass dtype explicitly to avoid this warning. Pass `AnnData(X, dtype=X.dtype, ...)` to get the future behavour.\n",
      "  return ad.AnnData(X=count_data.values,\n"
     ]
    }
   ],
   "source": [
    "# read data\n",
    "adata = ad.read_h5ad(\"../data/melanoma_seurat.h5ad\")\n",
    "\n",
    "# create covariates dataframe\n",
    "cov_df = pd.DataFrame({\"Sample\": adata.obs.sample_name, \"Cond\": adata.obs.response_status})\\\n",
    "    .drop_duplicates(subset=\"Sample\")\\\n",
    "    .set_index(\"Sample\")\n",
    "cov_df.Cond = pd.Categorical(cov_df.Cond, categories=[\"R\", \"NR\"], ordered=True)\n",
    "\n",
    "# create compositional data from scanpy data\n",
    "comp_data = dat.from_scanpy(adata,\n",
    "                            cell_type_identifier=\"cluster\",\n",
    "                            sample_identifier=\"sample_name\",\n",
    "                            covariate_df=cov_df)\n",
    "comp_data.write(os.path.join(out_dir, \"melanoma_sccoda.h5ad\"))"
   ]
  },
  {
   "cell_type": "markdown",
   "id": "170e452e",
   "metadata": {
    "pycharm": {
     "name": "#%% md\n"
    }
   },
   "source": [
    "## scCODA\n",
    "\n",
    "We set up the scCODA model for compositional analysis from the compositional data, using automatic reference cell type detection. Then, we run MCMC and look at the results, setting the estimated false discovery rate to 0.1."
   ]
  },
  {
   "cell_type": "code",
   "execution_count": 5,
   "id": "7c2fd9a1",
   "metadata": {
    "pycharm": {
     "name": "#%%\n"
    }
   },
   "outputs": [
    {
     "name": "stdout",
     "output_type": "stream",
     "text": [
      "Automatic reference selection! Reference cell type set to 6\n",
      "Zero counts encountered in data! Added a pseudocount of 0.5.\n"
     ]
    }
   ],
   "source": [
    "# model setup and inference\n",
    "model = mod.CompositionalAnalysis(comp_data, formula=\"Cond\", reference_cell_type=\"automatic\")"
   ]
  },
  {
   "cell_type": "code",
   "execution_count": 6,
   "id": "e2799027",
   "metadata": {
    "pycharm": {
     "name": "#%%\n"
    }
   },
   "outputs": [
    {
     "name": "stderr",
     "output_type": "stream",
     "text": [
      "100%|████████████████████████████████████| 20000/20000 [01:59<00:00, 168.02it/s]\n"
     ]
    },
    {
     "name": "stdout",
     "output_type": "stream",
     "text": [
      "MCMC sampling finished. (151.622 sec)\n",
      "Acceptance rate: 58.0%\n"
     ]
    }
   ],
   "source": [
    "# run MCMC\n",
    "sim_results = model.sample_hmc()"
   ]
  },
  {
   "cell_type": "code",
   "execution_count": 7,
   "id": "c9429658",
   "metadata": {
    "pycharm": {
     "name": "#%%\n"
    }
   },
   "outputs": [
    {
     "name": "stdout",
     "output_type": "stream",
     "text": [
      "Compositional Analysis summary:\n",
      "\n",
      "Data: 42 samples, 11 cell types\n",
      "Reference index: 6\n",
      "Formula: Cond\n",
      "\n",
      "Intercepts:\n",
      "           Final Parameter  Expected Sample\n",
      "Cell Type                                  \n",
      "0                   -0.191        40.943199\n",
      "1                   -1.210        14.778682\n",
      "2                   -0.698        24.660079\n",
      "3                   -1.067        17.050606\n",
      "4                   -0.237        39.102473\n",
      "5                   -0.655        25.743591\n",
      "6                    0.036        51.376749\n",
      "7                   -0.158        42.316866\n",
      "8                   -0.567        28.111696\n",
      "9                   -0.009        49.116043\n",
      "10                  -0.732        23.835730\n",
      "\n",
      "\n",
      "Effects:\n",
      "                      Final Parameter  Expected Sample  log2-fold change\n",
      "Covariate  Cell Type                                                    \n",
      "Cond[T.NR] 0                -0.772828        17.498119         -1.226424\n",
      "           1                 0.000000        13.679821         -0.111468\n",
      "           2                 0.000000        22.826494         -0.111468\n",
      "           3                 0.000000        15.782818         -0.111468\n",
      "           4                 0.000000        36.195032         -0.111468\n",
      "           5                 0.739857        49.937856          0.955921\n",
      "           6                 0.000000        47.556661         -0.111468\n",
      "           7                 0.000000        39.170420         -0.111468\n",
      "           8                 0.000000        26.021467         -0.111468\n",
      "           9                 0.000000        45.464048         -0.111468\n",
      "           10                0.665019        42.902980          0.847952\n"
     ]
    }
   ],
   "source": [
    "sim_results.save(os.path.join(out_dir, \"melanoma_sccoda_results.pkl\"))\n",
    "sim_results.set_fdr(est_fdr=0.1)\n",
    "sim_results.summary()"
   ]
  },
  {
   "cell_type": "markdown",
   "id": "1396a79c",
   "metadata": {
    "pycharm": {
     "name": "#%% md\n"
    }
   },
   "source": [
    "We extract the credible effects from the simulation results and create a data frame containing the cell type proportions, required for plotting."
   ]
  },
  {
   "cell_type": "code",
   "execution_count": 8,
   "id": "def8873c",
   "metadata": {
    "pycharm": {
     "name": "#%%\n"
    }
   },
   "outputs": [],
   "source": [
    "credible_effects = sim_results.credible_effects()\n",
    "sccoda_relevant_indices = np.where(credible_effects)[0]\n",
    "cell_types = credible_effects.index.get_level_values(1).to_list()\n",
    "\n",
    "prop_df = pd.DataFrame(comp_data.X/np.sum(comp_data.X, axis=1, keepdims=True),\n",
    "                       columns=comp_data.var.index, index=comp_data.obs.index)\\\n",
    "    .merge(comp_data.obs.Cond, left_index=True, right_index=True)\\\n",
    "    .melt(id_vars=\"Cond\", var_name=\"cell type\", value_name=\"proportion\")"
   ]
  },
  {
   "cell_type": "markdown",
   "id": "ed5fdad2",
   "metadata": {
    "pycharm": {
     "name": "#%% md\n"
    }
   },
   "source": [
    "## Wilcoxon rank-sum tests\n",
    "\n",
    "As another basic method, we use Wilcoxon rank-sum tests to identify differentially abundant cell types between the two conditions."
   ]
  },
  {
   "cell_type": "code",
   "execution_count": 9,
   "id": "ed4de79f",
   "metadata": {
    "pycharm": {
     "name": "#%%\n"
    }
   },
   "outputs": [
    {
     "data": {
      "text/html": [
       "<div>\n",
       "<style scoped>\n",
       "    .dataframe tbody tr th:only-of-type {\n",
       "        vertical-align: middle;\n",
       "    }\n",
       "\n",
       "    .dataframe tbody tr th {\n",
       "        vertical-align: top;\n",
       "    }\n",
       "\n",
       "    .dataframe thead th {\n",
       "        text-align: right;\n",
       "    }\n",
       "</style>\n",
       "<table border=\"1\" class=\"dataframe\">\n",
       "  <thead>\n",
       "    <tr style=\"text-align: right;\">\n",
       "      <th></th>\n",
       "      <th>response_status</th>\n",
       "      <th>sample_name</th>\n",
       "      <th>cluster</th>\n",
       "      <th>frequency</th>\n",
       "    </tr>\n",
       "  </thead>\n",
       "  <tbody>\n",
       "    <tr>\n",
       "      <th>0</th>\n",
       "      <td>NR</td>\n",
       "      <td>Post_P10</td>\n",
       "      <td>G1</td>\n",
       "      <td>0.002525</td>\n",
       "    </tr>\n",
       "    <tr>\n",
       "      <th>1</th>\n",
       "      <td>NR</td>\n",
       "      <td>Post_P11</td>\n",
       "      <td>G1</td>\n",
       "      <td>0.003195</td>\n",
       "    </tr>\n",
       "    <tr>\n",
       "      <th>2</th>\n",
       "      <td>NR</td>\n",
       "      <td>Post_P12</td>\n",
       "      <td>G1</td>\n",
       "      <td>0.000000</td>\n",
       "    </tr>\n",
       "    <tr>\n",
       "      <th>3</th>\n",
       "      <td>NR</td>\n",
       "      <td>Post_P13</td>\n",
       "      <td>G1</td>\n",
       "      <td>0.253898</td>\n",
       "    </tr>\n",
       "    <tr>\n",
       "      <th>4</th>\n",
       "      <td>NR</td>\n",
       "      <td>Post_P14</td>\n",
       "      <td>G1</td>\n",
       "      <td>0.057751</td>\n",
       "    </tr>\n",
       "    <tr>\n",
       "      <th>...</th>\n",
       "      <td>...</td>\n",
       "      <td>...</td>\n",
       "      <td>...</td>\n",
       "      <td>...</td>\n",
       "    </tr>\n",
       "    <tr>\n",
       "      <th>457</th>\n",
       "      <td>R</td>\n",
       "      <td>Pre_P26</td>\n",
       "      <td>G9</td>\n",
       "      <td>0.006006</td>\n",
       "    </tr>\n",
       "    <tr>\n",
       "      <th>458</th>\n",
       "      <td>R</td>\n",
       "      <td>Pre_P28</td>\n",
       "      <td>G9</td>\n",
       "      <td>0.026706</td>\n",
       "    </tr>\n",
       "    <tr>\n",
       "      <th>459</th>\n",
       "      <td>R</td>\n",
       "      <td>Pre_P33</td>\n",
       "      <td>G9</td>\n",
       "      <td>0.002212</td>\n",
       "    </tr>\n",
       "    <tr>\n",
       "      <th>460</th>\n",
       "      <td>R</td>\n",
       "      <td>Pre_P7</td>\n",
       "      <td>G9</td>\n",
       "      <td>0.073370</td>\n",
       "    </tr>\n",
       "    <tr>\n",
       "      <th>461</th>\n",
       "      <td>R</td>\n",
       "      <td>Pre_P8</td>\n",
       "      <td>G9</td>\n",
       "      <td>0.014981</td>\n",
       "    </tr>\n",
       "  </tbody>\n",
       "</table>\n",
       "<p>462 rows × 4 columns</p>\n",
       "</div>"
      ],
      "text/plain": [
       "    response_status sample_name cluster  frequency\n",
       "0                NR    Post_P10      G1   0.002525\n",
       "1                NR    Post_P11      G1   0.003195\n",
       "2                NR    Post_P12      G1   0.000000\n",
       "3                NR    Post_P13      G1   0.253898\n",
       "4                NR    Post_P14      G1   0.057751\n",
       "..              ...         ...     ...        ...\n",
       "457               R     Pre_P26      G9   0.006006\n",
       "458               R     Pre_P28      G9   0.026706\n",
       "459               R     Pre_P33      G9   0.002212\n",
       "460               R      Pre_P7      G9   0.073370\n",
       "461               R      Pre_P8      G9   0.014981\n",
       "\n",
       "[462 rows x 4 columns]"
      ]
     },
     "execution_count": 9,
     "metadata": {},
     "output_type": "execute_result"
    }
   ],
   "source": [
    "# perform testing for cluster frequencies\n",
    "meta_data = pd.read_csv(\"../data/melanoma_umap.txt\", sep=\"\\t\", index_col=0)\n",
    "cell_type_frequencies = meta_data.groupby([\"response_status\", \"sample_name\"], observed=True)[\"cluster\"]\\\n",
    "    .value_counts(normalize=True).rename(\"frequency\").unstack(fill_value=0).reset_index()\\\n",
    "    .melt(id_vars=[\"response_status\", \"sample_name\"], value_name=\"frequency\")\n",
    "cell_type_frequencies"
   ]
  },
  {
   "cell_type": "code",
   "execution_count": 10,
   "id": "b789f2b4",
   "metadata": {
    "pycharm": {
     "name": "#%%\n"
    }
   },
   "outputs": [
    {
     "data": {
      "text/html": [
       "<div>\n",
       "<style scoped>\n",
       "    .dataframe tbody tr th:only-of-type {\n",
       "        vertical-align: middle;\n",
       "    }\n",
       "\n",
       "    .dataframe tbody tr th {\n",
       "        vertical-align: top;\n",
       "    }\n",
       "\n",
       "    .dataframe thead th {\n",
       "        text-align: right;\n",
       "    }\n",
       "</style>\n",
       "<table border=\"1\" class=\"dataframe\">\n",
       "  <thead>\n",
       "    <tr style=\"text-align: right;\">\n",
       "      <th></th>\n",
       "      <th>cluster_index</th>\n",
       "      <th>cluster</th>\n",
       "      <th>log2fc</th>\n",
       "      <th>p</th>\n",
       "      <th>padj</th>\n",
       "    </tr>\n",
       "  </thead>\n",
       "  <tbody>\n",
       "    <tr>\n",
       "      <th>0</th>\n",
       "      <td>0</td>\n",
       "      <td>G1</td>\n",
       "      <td>-2.158012</td>\n",
       "      <td>0.002407</td>\n",
       "      <td>0.013238</td>\n",
       "    </tr>\n",
       "    <tr>\n",
       "      <th>1</th>\n",
       "      <td>1</td>\n",
       "      <td>G2</td>\n",
       "      <td>0.578780</td>\n",
       "      <td>0.780688</td>\n",
       "      <td>0.780688</td>\n",
       "    </tr>\n",
       "    <tr>\n",
       "      <th>2</th>\n",
       "      <td>2</td>\n",
       "      <td>G3</td>\n",
       "      <td>2.065498</td>\n",
       "      <td>0.010422</td>\n",
       "      <td>0.028662</td>\n",
       "    </tr>\n",
       "    <tr>\n",
       "      <th>3</th>\n",
       "      <td>3</td>\n",
       "      <td>G4</td>\n",
       "      <td>1.278635</td>\n",
       "      <td>0.089436</td>\n",
       "      <td>0.157844</td>\n",
       "    </tr>\n",
       "    <tr>\n",
       "      <th>4</th>\n",
       "      <td>4</td>\n",
       "      <td>G5</td>\n",
       "      <td>-1.032665</td>\n",
       "      <td>0.100446</td>\n",
       "      <td>0.157844</td>\n",
       "    </tr>\n",
       "    <tr>\n",
       "      <th>5</th>\n",
       "      <td>5</td>\n",
       "      <td>G6</td>\n",
       "      <td>1.962359</td>\n",
       "      <td>0.005844</td>\n",
       "      <td>0.021429</td>\n",
       "    </tr>\n",
       "    <tr>\n",
       "      <th>6</th>\n",
       "      <td>6</td>\n",
       "      <td>G7</td>\n",
       "      <td>0.252103</td>\n",
       "      <td>0.290052</td>\n",
       "      <td>0.398822</td>\n",
       "    </tr>\n",
       "    <tr>\n",
       "      <th>7</th>\n",
       "      <td>7</td>\n",
       "      <td>G8</td>\n",
       "      <td>0.480612</td>\n",
       "      <td>0.372954</td>\n",
       "      <td>0.455833</td>\n",
       "    </tr>\n",
       "    <tr>\n",
       "      <th>8</th>\n",
       "      <td>8</td>\n",
       "      <td>G9</td>\n",
       "      <td>0.283632</td>\n",
       "      <td>0.635986</td>\n",
       "      <td>0.699584</td>\n",
       "    </tr>\n",
       "    <tr>\n",
       "      <th>9</th>\n",
       "      <td>9</td>\n",
       "      <td>G10</td>\n",
       "      <td>-1.860139</td>\n",
       "      <td>0.042104</td>\n",
       "      <td>0.092629</td>\n",
       "    </tr>\n",
       "    <tr>\n",
       "      <th>10</th>\n",
       "      <td>10</td>\n",
       "      <td>G11</td>\n",
       "      <td>1.830245</td>\n",
       "      <td>0.000238</td>\n",
       "      <td>0.002614</td>\n",
       "    </tr>\n",
       "  </tbody>\n",
       "</table>\n",
       "</div>"
      ],
      "text/plain": [
       "    cluster_index cluster    log2fc         p      padj\n",
       "0               0      G1 -2.158012  0.002407  0.013238\n",
       "1               1      G2  0.578780  0.780688  0.780688\n",
       "2               2      G3  2.065498  0.010422  0.028662\n",
       "3               3      G4  1.278635  0.089436  0.157844\n",
       "4               4      G5 -1.032665  0.100446  0.157844\n",
       "5               5      G6  1.962359  0.005844  0.021429\n",
       "6               6      G7  0.252103  0.290052  0.398822\n",
       "7               7      G8  0.480612  0.372954  0.455833\n",
       "8               8      G9  0.283632  0.635986  0.699584\n",
       "9               9     G10 -1.860139  0.042104  0.092629\n",
       "10             10     G11  1.830245  0.000238  0.002614"
      ]
     },
     "execution_count": 10,
     "metadata": {},
     "output_type": "execute_result"
    }
   ],
   "source": [
    "clusters = [\"G\" + str(i) for i in range(1, 12)]\n",
    "differential_abundance_dict = {\"cluster_index\": [], \"cluster\": [], \"log2fc\": [], \"p\": []}\n",
    "\n",
    "for i, c in enumerate(clusters):\n",
    "    df = cell_type_frequencies[cell_type_frequencies.cluster == c]\n",
    "    # Wilcoxon test\n",
    "    _, p = stats.ranksums(*df.groupby('response_status')['frequency'].apply(lambda x: x.values))\n",
    "    differential_abundance_dict[\"cluster_index\"].append(i)\n",
    "    differential_abundance_dict[\"cluster\"].append(c)\n",
    "    differential_abundance_dict[\"p\"].append(p)\n",
    "    # log2fc\n",
    "    differential_abundance_dict[\"log2fc\"].append(np.log2(df.loc[df.response_status == \"NR\", \"frequency\"].mean() /\n",
    "                                                         df.loc[df.response_status == \"R\", \"frequency\"].mean()))\n",
    "    \n",
    "differential_abundance = pd.DataFrame(differential_abundance_dict)\n",
    "differential_abundance[\"padj\"] = multipletests(differential_abundance.p, method=\"fdr_bh\")[1]\n",
    "\n",
    "significant_indices = differential_abundance.loc[differential_abundance.padj < 0.1, \"cluster_index\"]\n",
    "\n",
    "differential_abundance.to_csv(os.path.join(out_dir, \"melanoma_differential_abundance_wilcoxon.csv\"))\n",
    "differential_abundance"
   ]
  },
  {
   "cell_type": "markdown",
   "id": "b08686c1",
   "metadata": {
    "pycharm": {
     "name": "#%% md\n"
    }
   },
   "source": [
    "## Plotting of results\n",
    "\n",
    "Finally, we create grouped boxplots to show the results of scCODA and the Wilcoxon rank-sum tests."
   ]
  },
  {
   "cell_type": "code",
   "execution_count": 11,
   "id": "2075fd0c",
   "metadata": {
    "pycharm": {
     "name": "#%%\n"
    }
   },
   "outputs": [],
   "source": [
    "from matplotlib.lines import Line2D\n",
    "sns.set_theme(style=\"ticks\", font_scale=1)"
   ]
  },
  {
   "cell_type": "code",
   "execution_count": 12,
   "id": "6d261bd6",
   "metadata": {
    "pycharm": {
     "name": "#%%\n"
    }
   },
   "outputs": [
    {
     "data": {
      "image/png": "[encoded data removed]",
      "text/plain": [
       "<Figure size 600x400 with 1 Axes>"
      ]
     },
     "metadata": {},
     "output_type": "display_data"
    }
   ],
   "source": [
    "# grouped boxplots\n",
    "ax = viz.boxplots(comp_data, feature_name=\"Cond\", plot_facets=False,\n",
    "                  y_scale=\"relative\", add_dots=False, figsize=(6,4),\n",
    "                  cmap=\"Set2\")\n",
    "ax.set_xticks(range(0, 11), labels=clusters, rotation=0)\n",
    "\n",
    "\n",
    "# add annotations for sccoda credible effects\n",
    "for i in sccoda_relevant_indices:\n",
    "    x_min = i - .25\n",
    "    x_max = i + .25\n",
    "    y = np.max(prop_df.loc[prop_df[\"cell type\"] == cell_types[i], \"proportion\"] + .05)\n",
    "    ax.plot([x_min, x_max], [y, y], linewidth=1.5, c=\"k\")\n",
    "\n",
    "# add annotations for Wilcoxon rank sum test significant differences\n",
    "for i in significant_indices:\n",
    "    x_min = i - .25\n",
    "    x_max = i + .25\n",
    "    y = np.max(prop_df.loc[prop_df[\"cell type\"] == cell_types[i], \"proportion\"] + .07)\n",
    "    ax.plot([x_min, x_max], [y, y], linewidth=1.5, c=\"darkgreen\", linestyle=\"--\")\n",
    "\n",
    "ax.set_xlabel(\"cluster\")\n",
    "ax.set_ylabel(\"proportion\")\n",
    "legend_1 = ax.legend(loc=\"center left\", title=\"response\\nstatus\", frameon=False, bbox_to_anchor=(1,.8))\n",
    "custom_lines = [Line2D([0], [0], color=\"k\", lw=1.5),\n",
    "                Line2D([0], [0], color=\"darkgreen\", ls=\"--\", lw=1.5)]\n",
    "ax.legend(custom_lines, [\"scCODA\", \"Wilcoxon\"], loc=\"center left\", frameon=False, bbox_to_anchor=(1,.4))\n",
    "ax.add_artist(legend_1)\n",
    "sns.despine()\n",
    "plt.tight_layout()\n",
    "plt.savefig(os.path.join(out_dir, \"melanoma_cluster_frequencies.svg\"))\n",
    "plt.show()"
   ]
  }
 ],
 "metadata": {
  "kernelspec": {
   "display_name": "sccoda",
   "language": "python",
   "name": "sccoda"
  },
  "language_info": {
   "codemirror_mode": {
    "name": "ipython",
    "version": 3
   },
   "file_extension": ".py",
   "mimetype": "text/x-python",
   "name": "python",
   "nbconvert_exporter": "python",
   "pygments_lexer": "ipython3",
   "version": "3.8.13"
  }
 },
 "nbformat": 4,
 "nbformat_minor": 5
}
